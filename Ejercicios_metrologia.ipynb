{
  "nbformat": 4,
  "nbformat_minor": 0,
  "metadata": {
    "colab": {
      "name": "Ejercicios_metrologia",
      "provenance": []
    },
    "kernelspec": {
      "name": "python3",
      "display_name": "Python 3"
    },
    "language_info": {
      "name": "python"
    }
  },
  "cells": [
    {
      "cell_type": "markdown",
      "source": [
        "# Problemas de Metrología"
      ],
      "metadata": {
        "id": "JdLXlQ_1m5Mw"
      }
    },
    {
      "cell_type": "code",
      "source": [
        "# Librerías necesarias\n",
        "import math\n",
        "import numpy as np\n",
        "import torch"
      ],
      "metadata": {
        "id": "PiAJfkx6pvKf"
      },
      "execution_count": null,
      "outputs": []
    },
    {
      "cell_type": "markdown",
      "source": [
        "## Ejercicio 1"
      ],
      "metadata": {
        "id": "ybWWWRyLnCPX"
      }
    },
    {
      "cell_type": "code",
      "source": [
        "resistividad_aluminio_puro = 2.65e-8"
      ],
      "metadata": {
        "id": "I_AUPuAMnKLf"
      },
      "execution_count": null,
      "outputs": []
    },
    {
      "cell_type": "code",
      "source": [
        "# Todos los valores en milimetros\n",
        "val_long = 2123.2\n",
        "val_ancho = 18.87\n",
        "val_alto = 0.45\n",
        "val_resistencia = 6.99"
      ],
      "metadata": {
        "id": "urkgsRscnUY7"
      },
      "execution_count": null,
      "outputs": []
    },
    {
      "cell_type": "code",
      "source": [
        "resistividad_aluminio_medido = val_resistencia * ((val_ancho * val_alto) / val_long)\n",
        "# Resultado obtenido en milimetros * metro\n",
        "resistividad_aluminio_medido"
      ],
      "metadata": {
        "colab": {
          "base_uri": "https://localhost:8080/"
        },
        "id": "B3kHWewUns4e",
        "outputId": "dca9b755-3bf0-4ecd-87d5-34f4b8385d83"
      },
      "execution_count": null,
      "outputs": [
        {
          "output_type": "execute_result",
          "data": {
            "text/plain": [
              "0.027955720139412214"
            ]
          },
          "metadata": {},
          "execution_count": 5
        }
      ]
    },
    {
      "cell_type": "code",
      "source": [
        "resistividad_aluminio_puro_mas_tolerancia = resistividad_aluminio_puro + (resistividad_aluminio_puro * 0.03)\n",
        "resistividad_aluminio_puro_menos_tolerancia = resistividad_aluminio_puro - (resistividad_aluminio_puro * 0.03)\n",
        "\n",
        "print(f\"Resistividad aluminio mas tolerancia: {resistividad_aluminio_puro_mas_tolerancia}\")\n",
        "print(f\"Resistividad aluminio menos tolerancia: {resistividad_aluminio_puro_menos_tolerancia}\")"
      ],
      "metadata": {
        "colab": {
          "base_uri": "https://localhost:8080/"
        },
        "id": "Y2yv5U0foFsI",
        "outputId": "6b24dfea-4d96-4d73-bf22-ca033df2f527"
      },
      "execution_count": null,
      "outputs": [
        {
          "output_type": "stream",
          "name": "stdout",
          "text": [
            "Resistividad aluminio mas tolerancia: 2.7295e-08\n",
            "Resistividad aluminio menos tolerancia: 2.5704999999999998e-08\n"
          ]
        }
      ]
    },
    {
      "cell_type": "code",
      "source": [
        "# Los valores anteriores que se han obtenido indican el rango al que debe encontrarse la resistividad del aluminio medido\n",
        "if resistividad_aluminio_medido > resistividad_aluminio_puro_mas_tolerancia or resistividad_aluminio_medido < resistividad_aluminio_puro_menos_tolerancia:\n",
        "\n",
        "  print(f\"La resistividad del aluminio medida tiene una mayor probabilidad de quedar fuera de la tolerancia\")"
      ],
      "metadata": {
        "colab": {
          "base_uri": "https://localhost:8080/"
        },
        "id": "TsEt80ZConsM",
        "outputId": "4c35b994-fcf4-4ddc-842f-871e1910df5a"
      },
      "execution_count": null,
      "outputs": [
        {
          "output_type": "stream",
          "name": "stdout",
          "text": [
            "La resistividad del aluminio medida tiene una mayor probabilidad de quedar fuera de la tolerancia\n"
          ]
        }
      ]
    },
    {
      "cell_type": "code",
      "source": [
        "# A continuación calculamos las incertidumbres asociadas\n",
        "# Incertidumbres resistencia: redondeo  y calibracion\n",
        "# Los he pasado a metros de ahi el e-3 = 10 ^ -3\n",
        "error_redondeo_resistencia = 0.01e-3 / math.sqrt(12)\n",
        "error_certificacion_resistencia = (6.99e-3 * 0.01) / 2\n",
        "\n",
        "print(f\"Error redonde resistencia {error_redondeo_resistencia} y error certificacion {error_certificacion_resistencia}\")\n",
        "\n",
        "error_total_resistencia = math.sqrt(error_redondeo_resistencia ** 2 + \n",
        "                                    error_certificacion_resistencia ** 2)\n",
        "\n",
        "print(f\"Error total resistencia {error_total_resistencia} en ohmios, en mili ohmios = {error_total_resistencia * 1e3}\")"
      ],
      "metadata": {
        "id": "PfWSRtvlpNBN",
        "colab": {
          "base_uri": "https://localhost:8080/"
        },
        "outputId": "e98185bf-bb1a-4012-e935-f64c2a3f40a0"
      },
      "execution_count": null,
      "outputs": [
        {
          "output_type": "stream",
          "name": "stdout",
          "text": [
            "Error redonde resistencia 2.8867513459481293e-06 y error certificacion 3.495e-05\n",
            "Error total resistencia 3.50690152889033e-05 en ohmios, en mili ohmios = 0.0350690152889033\n"
          ]
        }
      ]
    },
    {
      "cell_type": "code",
      "source": [
        "# Calculamos ahora las derivadas de las médidas con respecto a la función de la resistividad\n",
        "# Resistividad = Resistencia * ((Ancho * Alto) / Largo)\n",
        "\n",
        "print(\"Los resultados se muestran en metros\")\n",
        "\n",
        "# Derivada de Resistencia\n",
        "X = torch.tensor(val_resistencia, requires_grad = True)\n",
        "Y = X * ((val_ancho * val_alto) / val_long)\n",
        "Y.backward()\n",
        "X1 = X.grad\n",
        "print(f\"Derivada de resistividad con respecto Resistencia: {X1}\")\n",
        "\n",
        "# Derivada de Ancho\n",
        "X = torch.tensor(val_ancho, requires_grad = True)\n",
        "Y = val_resistencia * ((X * val_alto) / val_long)\n",
        "Y.backward()\n",
        "X2 = X.grad\n",
        "print(f\"Derivada de resistividad con respecto Ancho: {X2}\")\n",
        "\n",
        "# Derivada de Alto\n",
        "X = torch.tensor(val_alto, requires_grad = True)\n",
        "Y = val_resistencia * ((val_ancho * X) / val_long)\n",
        "Y.backward()\n",
        "X3 = X.grad\n",
        "print(f\"Derivada de resistividad con respecto Alto: {X3}\")\n",
        "\n",
        "# Derivada de Largo\n",
        "X = torch.tensor(val_long, requires_grad = True)\n",
        "Y = val_resistencia * ((val_ancho * val_alto) / X)\n",
        "Y.backward()\n",
        "X4 = X.grad\n",
        "print(f\"Derivada de resistividad con respecto Largo: {X4}\")"
      ],
      "metadata": {
        "colab": {
          "base_uri": "https://localhost:8080/"
        },
        "id": "jl3xeY3alQyl",
        "outputId": "e22dc029-22c9-48d6-f7da-a06bc236fccd"
      },
      "execution_count": null,
      "outputs": [
        {
          "output_type": "stream",
          "name": "stdout",
          "text": [
            "Derivada de resistividad con respecto Resistencia: 0.0039993878453969955\n",
            "Derivada de resistividad con respecto Ancho: 0.0014814900932833552\n",
            "Derivada de resistividad con respecto Alto: 0.062123823910951614\n",
            "Derivada de resistividad con respecto Largo: -1.3166785720386542e-05\n"
          ]
        }
      ]
    },
    {
      "cell_type": "code",
      "source": [
        "# En metros\n",
        "error_long = 1.3e-3 / 2\n",
        "error_ancho = 0.32e-3 / 2\n",
        "error_alto = 0.21e-3 / 2\n",
        "\n",
        "error_long, error_ancho, error_alto"
      ],
      "metadata": {
        "colab": {
          "base_uri": "https://localhost:8080/"
        },
        "id": "xD3lR3JDm3Ku",
        "outputId": "ccd868fa-3982-4844-df98-33de9d8fbcd4"
      },
      "execution_count": null,
      "outputs": [
        {
          "output_type": "execute_result",
          "data": {
            "text/plain": [
              "(0.00065, 0.00016, 0.000105)"
            ]
          },
          "metadata": {},
          "execution_count": 12
        }
      ]
    },
    {
      "cell_type": "code",
      "source": [
        "error_total_resistividad = math.sqrt((X1 * error_total_resistencia) ** 2 +\n",
        "                                     (X2 * error_ancho) ** 2 + \n",
        "                                     (X3 * error_alto) ** 2 +\n",
        "                                     (X4 * error_long) ** 2)\n",
        "\n",
        "error_total_resistividad = error_total_resistividad * 1e-3\n",
        "\n",
        "print(f\"Error total resistividad en miliohmios {error_total_resistividad}\")"
      ],
      "metadata": {
        "colab": {
          "base_uri": "https://localhost:8080/"
        },
        "id": "YE6zltiPnJNw",
        "outputId": "458eea60-64e8-47c4-e0ec-6e01d3562872"
      },
      "execution_count": 16,
      "outputs": [
        {
          "output_type": "stream",
          "name": "stdout",
          "text": [
            "Error total resistividad en miliohmios 6.5288191531800085e-09\n"
          ]
        }
      ]
    },
    {
      "cell_type": "markdown",
      "source": [
        "## Ejercicio 2"
      ],
      "metadata": {
        "id": "v8MZo0NmwV9J"
      }
    },
    {
      "cell_type": "code",
      "source": [
        "frecuencia_angular = 2 * math.pi * 158.32\n",
        "print(f\"Frecuencia angular: {frecuencia_angular} rad/s\")"
      ],
      "metadata": {
        "colab": {
          "base_uri": "https://localhost:8080/"
        },
        "id": "sIZgvSS1wYJh",
        "outputId": "f937f2b6-036b-4691-95ec-31d81dd6418e"
      },
      "execution_count": 18,
      "outputs": [
        {
          "output_type": "stream",
          "name": "stdout",
          "text": [
            "Frecuencia angular: 994.753897832672 rad/s\n"
          ]
        }
      ]
    },
    {
      "cell_type": "code",
      "source": [
        "# 2 * pi * error_redondeo -> error_redondeo = 0.15 con +- (2 cursores) \n",
        "error_redondeo_frec_angular = (2 * math.pi * (2 * 0.15)) / math.sqrt(12)\n",
        "print(f\"Error frecuencia angular {error_redondeo_frec_angular} rad/s\")"
      ],
      "metadata": {
        "colab": {
          "base_uri": "https://localhost:8080/"
        },
        "id": "klXoFNuCwtbh",
        "outputId": "a715d40a-802f-4f89-dd98-5ca59a51af42"
      },
      "execution_count": 19,
      "outputs": [
        {
          "output_type": "stream",
          "name": "stdout",
          "text": [
            "Error frecuencia angular 0.5441398092702654 rad/s\n"
          ]
        }
      ]
    },
    {
      "cell_type": "code",
      "source": [
        "error_redondeo_R2 = 0.001 / math.sqrt(12)\n",
        "error_tolerancia_R2 = ((10.038 - 9.983) / math.sqrt(12))\n",
        "\n",
        "error_total_R2 = math.sqrt(error_redondeo_R2 ** 2 +\n",
        "                           error_tolerancia_R2 ** 2)\n",
        "\n",
        "print(f\"Error resistencia R2 {error_total_R2} Kohms\")"
      ],
      "metadata": {
        "colab": {
          "base_uri": "https://localhost:8080/"
        },
        "id": "HuvsOQDjxOAo",
        "outputId": "69dc9dc2-2568-4bee-eac6-40dbeb4e37f9"
      },
      "execution_count": 20,
      "outputs": [
        {
          "output_type": "stream",
          "name": "stdout",
          "text": [
            "Error resistencia R2 0.015879756505269977 Kohms\n"
          ]
        }
      ]
    },
    {
      "cell_type": "code",
      "source": [
        "valor_proximo_R2 = (10.038 + 9.983) / 2\n",
        "print(f\"Valor medio de R2 {valor_proximo_R2} Kohms\")"
      ],
      "metadata": {
        "colab": {
          "base_uri": "https://localhost:8080/"
        },
        "id": "hhaEH3U1xu95",
        "outputId": "cce7690a-ba09-449c-c404-3fd0c1d64574"
      },
      "execution_count": 21,
      "outputs": [
        {
          "output_type": "stream",
          "name": "stdout",
          "text": [
            "Valor medio de R2 10.0105 Kohms\n"
          ]
        }
      ]
    },
    {
      "cell_type": "code",
      "source": [
        "valor_condensador = (1 / (frecuencia_angular * valor_proximo_R2)) * 1e6\n",
        "print(f\"Valor condensador {valor_condensador} nF\")"
      ],
      "metadata": {
        "colab": {
          "base_uri": "https://localhost:8080/"
        },
        "id": "6dTjaTUpx-p5",
        "outputId": "14056d92-eed5-4f70-ec03-c995df15a866"
      },
      "execution_count": 27,
      "outputs": [
        {
          "output_type": "stream",
          "name": "stdout",
          "text": [
            "Valor condensador 100.42193385922508 nF\n"
          ]
        }
      ]
    },
    {
      "cell_type": "code",
      "source": [
        "# Calculamos ahora las derivadas de los valores que afectan al condensador\n",
        "# Es decir, a la frecuencia y a la resistencia R2\n",
        "# Condensador = 1 / Frecuencia * R2\n",
        "\n",
        "# Derivada de Frecuencia Angular\n",
        "X = torch.tensor(frecuencia_angular, requires_grad = True)\n",
        "Y = (1 / (X * valor_proximo_R2*1e3))\n",
        "Y.backward()\n",
        "X1 = X.grad\n",
        "print(f\"Derivada de condensador con respecto  Frecuencia Angular: {X1}\")\n",
        "\n",
        "# Derivada de Resistencia R2\n",
        "X = torch.tensor(valor_proximo_R2, requires_grad = True)\n",
        "Y = (1 / (frecuencia_angular * X * 1e3))\n",
        "Y.backward()\n",
        "X2 = X.grad\n",
        "print(f\"Derivada de condensador con respecto Resistencia R2: {X2}\")"
      ],
      "metadata": {
        "colab": {
          "base_uri": "https://localhost:8080/"
        },
        "id": "OKNhPjhuyZ3x",
        "outputId": "0ce4f263-5e78-49a1-9652-0151c877e8e3"
      },
      "execution_count": 38,
      "outputs": [
        {
          "output_type": "stream",
          "name": "stdout",
          "text": [
            "Derivada de condensador con respecto  Frecuencia Angular: -1.009515387950799e-10\n",
            "Derivada de condensador con respecto Resistencia R2: -1.003166083535234e-08\n"
          ]
        }
      ]
    },
    {
      "cell_type": "code",
      "source": [
        "error_total_condensador = math.sqrt((X1 * error_redondeo_frec_angular) ** 2 + \n",
        "                                    (X2 * error_total_R2) ** 2) * 1e9\n",
        "\n",
        "print(f\"Error total del condensador {error_total_condensador} nF\")"
      ],
      "metadata": {
        "colab": {
          "base_uri": "https://localhost:8080/"
        },
        "id": "GmT6l1Pezdt4",
        "outputId": "eaa569f7-1682-4cc9-e99e-4ef77b7bad27"
      },
      "execution_count": 40,
      "outputs": [
        {
          "output_type": "stream",
          "name": "stdout",
          "text": [
            "Error total del condensador 0.16850545771874886 nF\n"
          ]
        }
      ]
    },
    {
      "cell_type": "code",
      "source": [
        "print(f\"Con k = 2, Condensador = {valor_condensador:.5} ± {error_total_condensador*2:.2}\")"
      ],
      "metadata": {
        "colab": {
          "base_uri": "https://localhost:8080/"
        },
        "id": "fhJ7c2Hl1Hi8",
        "outputId": "5bad84e2-5635-4fcc-a1a0-92a4a9c64dd9"
      },
      "execution_count": 45,
      "outputs": [
        {
          "output_type": "stream",
          "name": "stdout",
          "text": [
            "Con k = 2, Condensador = 100.42 ± 0.34\n"
          ]
        }
      ]
    },
    {
      "cell_type": "markdown",
      "source": [
        "## Ejercicio 3"
      ],
      "metadata": {
        "id": "fJd5E8Oj2DEZ"
      }
    },
    {
      "cell_type": "code",
      "source": [
        "error_R2 = 0.26 / 2\n",
        "print(f\"Error de R2 {error_R2} ohmios\")"
      ],
      "metadata": {
        "colab": {
          "base_uri": "https://localhost:8080/"
        },
        "id": "J5HFAsOI2Fyp",
        "outputId": "3cc69d94-7f2f-418d-aea1-b1938babaf1e"
      },
      "execution_count": 62,
      "outputs": [
        {
          "output_type": "stream",
          "name": "stdout",
          "text": [
            "Error de R2 0.13 ohmios\n"
          ]
        }
      ]
    },
    {
      "cell_type": "code",
      "source": [
        "# Periodo = 1ms, eje de tiempo, necesita 2 cursores\n",
        "# Tension de entrada = 1 Vp = 2 Vpp, eje de tensión, necesita 1 cursor colocado desde 0 hasta la cresta\n",
        "# Tension de salida = 0.15 Vp = 0.3 Vpp, eje de tensión, necesita 1 cursor colocado desde 0 hasta la cresta\n",
        "T = 1e-3\n",
        "Vi = 2.0\n",
        "Vout = 0.3\n",
        "valor_R2 = 100.01\n",
        "pi = 3.141592"
      ],
      "metadata": {
        "id": "RqI-CbWX2TJY"
      },
      "execution_count": 72,
      "outputs": []
    },
    {
      "cell_type": "code",
      "source": [
        "# ± * error de 0.02 * 1e-3 estar en ms\n",
        "# Se ha escogido 0.02 de error debido a que cada cuadrado son 0.05ms personalmente\n",
        "# puedo ajustar hasta ±0.01ms, como debo ajustar 2 cursores lo multiplico por 2\n",
        "error_periodo = ((2 * 0.02 * 1e-3) / math.sqrt(12))\n",
        "\n",
        "error_tension_vi = error_tension_vout = 0.04 / math.sqrt(12)\n",
        "\n",
        "print(f\"Error del periodo {error_periodo} s\")\n",
        "print(f\"Error de la tension de entrada y salida (son iguales) {error_tension_vi} v\")"
      ],
      "metadata": {
        "colab": {
          "base_uri": "https://localhost:8080/"
        },
        "id": "dhn25WUM206Z",
        "outputId": "7a70d596-8d89-4d5d-8706-3efd81c62774"
      },
      "execution_count": 73,
      "outputs": [
        {
          "output_type": "stream",
          "name": "stdout",
          "text": [
            "Error del periodo 1.1547005383792517e-05 s\n",
            "Error de la tension de entrada y salida (son iguales) 0.011547005383792516 v\n"
          ]
        }
      ]
    },
    {
      "cell_type": "code",
      "source": [
        "valor_condensador = (T / (valor_R2 * 2 * pi)) * (math.sqrt(((Vi / Vout) ** 2) - 1))\n",
        "print(f\"Valor del condensador {valor_condensador} F\")"
      ],
      "metadata": {
        "colab": {
          "base_uri": "https://localhost:8080/"
        },
        "id": "P1u5sYcV3qdt",
        "outputId": "26092a30-d348-4876-cd48-5757cb98c814"
      },
      "execution_count": 74,
      "outputs": [
        {
          "output_type": "stream",
          "name": "stdout",
          "text": [
            "Valor del condensador 1.048923749434962e-05 F\n"
          ]
        }
      ]
    },
    {
      "cell_type": "code",
      "source": [
        "# Calculamos ahora las derivadas de los valores que afectan al condensador\n",
        "# Es decir, periodo, valor de R2, tensión de entrada y tensión de salida\n",
        "\n",
        "# Derivada de Resistencia R2\n",
        "X = torch.tensor(valor_R2, requires_grad = True)\n",
        "Y = (T / (X * 2 * pi)) * (math.sqrt(((Vi / Vout) ** 2) - 1))\n",
        "Y.backward()\n",
        "X1 = X.grad\n",
        "print(f\"Derivada de condensador con respecto  Resistencia R2: {X1}\")\n",
        "\n",
        "# Derivada de Periodo\n",
        "X = torch.tensor(T, requires_grad = True)\n",
        "Y = (X / (valor_R2 * 2 * pi)) * (math.sqrt(((Vi / Vout) ** 2) - 1))\n",
        "Y.backward()\n",
        "X2 = X.grad\n",
        "print(f\"Derivada de condensador con respecto  Periodo: {X2}\")\n",
        "\n",
        "# A la hora de realizar el gradiente (derivada de una función en un punto para evaluar la pendiente)\n",
        "# existe un problema al usar math.sqrt(...) por lo que podemos utilizar () ** (1/2)\n",
        "# Derivada de Tension de entrada\n",
        "X = torch.tensor(Vi, requires_grad = True)\n",
        "Y = (T / (valor_R2 * 2 * pi)) * ( (((X / Vout) ** 2) - 1) ** (1/2))\n",
        "Y.backward()\n",
        "X3 = X.grad\n",
        "print(f\"Derivada de condensador con respecto  Tension de entrada: {X3}\")\n",
        "\n",
        "# Derivada de Tension de salida\n",
        "X = torch.tensor(Vout, requires_grad = True)\n",
        "Y = (T / (valor_R2 * 2 * pi)) * ( (((Vi / X) ** 2) - 1) ** (1/2))\n",
        "Y.backward()\n",
        "X4 = X.grad\n",
        "print(f\"Derivada de condensador con respecto  Tension de salida: {X4}\")\n"
      ],
      "metadata": {
        "colab": {
          "base_uri": "https://localhost:8080/"
        },
        "id": "jytoAl5B4Q1M",
        "outputId": "2daa7ea0-eb5f-4b33-a8eb-38969461771c"
      },
      "execution_count": 75,
      "outputs": [
        {
          "output_type": "stream",
          "name": "stdout",
          "text": [
            "Derivada de condensador con respecto  Resistencia R2: -1.0488188451063252e-07\n",
            "Derivada de condensador con respecto  Periodo: 0.010489237494766712\n",
            "Derivada de condensador con respecto  Tension de entrada: 5.3653384384233505e-06\n",
            "Derivada de condensador con respecto  Tension de salida: -3.576892049750313e-05\n"
          ]
        }
      ]
    },
    {
      "cell_type": "code",
      "source": [
        "error_total_condensador = math.sqrt((X1 * error_R2) ** 2 +\n",
        "                                    (X2 * error_periodo) ** 2 +\n",
        "                                    (X3 * error_tension_vi) ** 2 +\n",
        "                                    (X4 * error_tension_vout) ** 2) * 1e6\n",
        "\n",
        "print(f\"Error total condensador {error_total_condensador} uF\")"
      ],
      "metadata": {
        "colab": {
          "base_uri": "https://localhost:8080/"
        },
        "id": "pZoGUk9Y7DxA",
        "outputId": "885fef93-3a04-4ef8-bc7d-a75c110c1cf7"
      },
      "execution_count": 77,
      "outputs": [
        {
          "output_type": "stream",
          "name": "stdout",
          "text": [
            "Error total condensador 0.43506643986075677 uF\n"
          ]
        }
      ]
    },
    {
      "cell_type": "code",
      "source": [
        "print(f\"Con k = 2, Condensador = {valor_condensador*1e6:.4} ± {error_total_condensador*2:.2} uF\")"
      ],
      "metadata": {
        "colab": {
          "base_uri": "https://localhost:8080/"
        },
        "id": "HyVEfZ2z7iuW",
        "outputId": "1d5ef120-52b5-4300-8686-16da00ab7e80"
      },
      "execution_count": 85,
      "outputs": [
        {
          "output_type": "stream",
          "name": "stdout",
          "text": [
            "Con k = 2, Condensador = 10.49 ± 0.87 uF\n"
          ]
        }
      ]
    },
    {
      "cell_type": "markdown",
      "source": [
        "## Ejercicio 4"
      ],
      "metadata": {
        "id": "rXtYSEnm8T-T"
      }
    },
    {
      "cell_type": "code",
      "source": [
        "tension_thevenin = (5.387 + 5.391) / 2\n",
        "tension_bornes = (4.953 + 4.957) / 2\n",
        "\n",
        "print(f\"Tension de thevenin {tension_thevenin} V y tension en bornes {tension_bornes} V\")"
      ],
      "metadata": {
        "colab": {
          "base_uri": "https://localhost:8080/"
        },
        "id": "_gAYooqi8WLG",
        "outputId": "e114bf39-25d5-48e1-d633-abd631850081"
      },
      "execution_count": 86,
      "outputs": [
        {
          "output_type": "stream",
          "name": "stdout",
          "text": [
            "Tension de thevenin 5.388999999999999 V y tension en bornes 4.955 V\n"
          ]
        }
      ]
    },
    {
      "cell_type": "code",
      "source": [
        "resistencia_externa = 10.190\n",
        "# tension_bornes = tension_thevenin * (resistencia_externa / (resistencia_thevenin + resistencia_externa))\n",
        "resistencia_thevenin = resistencia_externa * ((tension_thevenin - tension_bornes) / tension_bornes)\n",
        "\n",
        "print(f\"Resistencia de thevenin {resistencia_thevenin} Ohm\")"
      ],
      "metadata": {
        "colab": {
          "base_uri": "https://localhost:8080/"
        },
        "id": "e-12tNVd9Nxb",
        "outputId": "e83471ff-3e53-4292-dc98-cd6dc757acfd"
      },
      "execution_count": 89,
      "outputs": [
        {
          "output_type": "stream",
          "name": "stdout",
          "text": [
            "Resistencia de thevenin 0.8925247225025211 Ohm\n"
          ]
        }
      ]
    },
    {
      "cell_type": "code",
      "source": [
        "error_tension_thevenin = (5.391 - 5.387) / math.sqrt(12)\n",
        "error_tension_bornes = (4.957 - 4.953) / math.sqrt(12)\n",
        "\n",
        "# Ambos deben ser iguales\n",
        "print(f\"Error tension thevenin {error_tension_thevenin} v, error tension bornes {error_tension_bornes} v\")"
      ],
      "metadata": {
        "colab": {
          "base_uri": "https://localhost:8080/"
        },
        "id": "CDVZDWXH-BX3",
        "outputId": "eeefc0fc-06c5-4d5e-b978-94c7a4d6bd93"
      },
      "execution_count": 90,
      "outputs": [
        {
          "output_type": "stream",
          "name": "stdout",
          "text": [
            "Error tension thevenin 0.0011547005383793808 v, error tension bornes 0.0011547005383791245 v\n"
          ]
        }
      ]
    },
    {
      "cell_type": "code",
      "source": [
        "error_redondeo_tension = 0.001 / math.sqrt(12)\n",
        "error_redondeo_tension"
      ],
      "metadata": {
        "colab": {
          "base_uri": "https://localhost:8080/"
        },
        "id": "Ddboa5bx-gfD",
        "outputId": "f7908411-de3c-45c6-a613-7d4f8de2524c"
      },
      "execution_count": 91,
      "outputs": [
        {
          "output_type": "execute_result",
          "data": {
            "text/plain": [
              "0.0002886751345948129"
            ]
          },
          "metadata": {},
          "execution_count": 91
        }
      ]
    },
    {
      "cell_type": "code",
      "source": [
        "error_total_tension = math.sqrt((error_tension_thevenin) ** 2 + \n",
        "                                (error_redondeo_tension) ** 2)\n",
        "\n",
        "error_total_resistencia_externa = math.sqrt(error_redondeo_tension ** 2)\n",
        "\n",
        "# En tension\n",
        "error_total_tension, error_total_resistencia_externa"
      ],
      "metadata": {
        "colab": {
          "base_uri": "https://localhost:8080/"
        },
        "id": "fy0MP7hs-rSM",
        "outputId": "1697e3ae-927f-41c0-aa99-aee395440e8c"
      },
      "execution_count": 93,
      "outputs": [
        {
          "output_type": "execute_result",
          "data": {
            "text/plain": [
              "(0.0011902380714239338, 0.0002886751345948129)"
            ]
          },
          "metadata": {},
          "execution_count": 93
        }
      ]
    },
    {
      "cell_type": "code",
      "source": [
        "# Calculamos ahora las derivadas de los valores que afectan a la resistenia de thevenin\n",
        "# Es decir, resistencia externa, tension de thevenin y tension en los bornes\n",
        "\n",
        "# Derivada de tension bornes\n",
        "X = torch.tensor(tension_bornes, requires_grad = True)\n",
        "Y = resistencia_externa * ((tension_thevenin - X) / X)\n",
        "Y.backward()\n",
        "X1 = X.grad\n",
        "print(f\"Derivada de resistencia con respecto  tension bornes: {X1}\")\n",
        "\n",
        "# Derivada de tension thevenin\n",
        "X = torch.tensor(tension_thevenin, requires_grad = True)\n",
        "Y = resistencia_externa * ((X - tension_bornes) / tension_bornes)\n",
        "Y.backward()\n",
        "X2 = X.grad\n",
        "print(f\"Derivada de resistencia con respecto  tension thevenin: {X2}\")\n",
        "\n",
        "# Derivada de resistencia externa\n",
        "X = torch.tensor(resistencia_externa, requires_grad = True)\n",
        "Y = X * ((tension_thevenin - tension_bornes) / tension_bornes)\n",
        "Y.backward()\n",
        "X3 = X.grad\n",
        "print(f\"Derivada de resistencia con respecto resistencia externa: {X3}\")"
      ],
      "metadata": {
        "colab": {
          "base_uri": "https://localhost:8080/"
        },
        "id": "NGa3Atwc_O-2",
        "outputId": "d7bfcba8-0b7b-4381-decc-a6c6086990d9"
      },
      "execution_count": 96,
      "outputs": [
        {
          "output_type": "stream",
          "name": "stdout",
          "text": [
            "Derivada de resistencia con respecto  tension bornes: -2.2366347312927246\n",
            "Derivada de resistencia con respecto  tension thevenin: 2.0565085411071777\n",
            "Derivada de resistencia con respecto resistencia externa: 0.08758829534053802\n"
          ]
        }
      ]
    },
    {
      "cell_type": "code",
      "source": [
        "error_total_resistencia_thevenin = math.sqrt((X1 * error_tension_bornes) ** 2 +\n",
        "                                             (X2 * error_tension_thevenin) ** 2 + \n",
        "                                             (X3 * error_total_resistencia_externa) ** 2)\n",
        "\n",
        "print(f\"Error total resistencia de thevenin {error_total_resistencia_thevenin} Ohm\")"
      ],
      "metadata": {
        "colab": {
          "base_uri": "https://localhost:8080/"
        },
        "id": "qWe_CuQeBOUg",
        "outputId": "a97c10f6-38c0-4af8-fa59-0f06aefd2b7d"
      },
      "execution_count": 97,
      "outputs": [
        {
          "output_type": "stream",
          "name": "stdout",
          "text": [
            "Error total resistencia de thevenin 0.0035085120770858968 Ohm\n"
          ]
        }
      ]
    },
    {
      "cell_type": "code",
      "source": [
        "print(f\"Con k = 2, Resistencia = {resistencia_thevenin:.4} ± {error_total_resistencia_thevenin*2:.2} uF\")"
      ],
      "metadata": {
        "colab": {
          "base_uri": "https://localhost:8080/"
        },
        "id": "bmZt4TA_B34i",
        "outputId": "d9296233-f5f2-48f2-b022-04c622a5bbf1"
      },
      "execution_count": 101,
      "outputs": [
        {
          "output_type": "stream",
          "name": "stdout",
          "text": [
            "Con k = 2, Resistencia = 0.8925 ± 0.007 uF\n"
          ]
        }
      ]
    },
    {
      "cell_type": "markdown",
      "source": [
        "## Ejercicio 5"
      ],
      "metadata": {
        "id": "qg3UKHKgCbpW"
      }
    },
    {
      "cell_type": "code",
      "source": [
        "valor_proximo_resistencia = (100.19 + 100.14) / 2\n",
        "print(f\"Valor medio de la resistencia {valor_proximo_resistencia} Ohm\")"
      ],
      "metadata": {
        "colab": {
          "base_uri": "https://localhost:8080/"
        },
        "id": "ZiKmVPVzCdSC",
        "outputId": "b63f35f6-d149-4591-9928-c3aa7c6a4e12"
      },
      "execution_count": 103,
      "outputs": [
        {
          "output_type": "stream",
          "name": "stdout",
          "text": [
            "Valor medio de la resistencia 100.16499999999999 Ohm\n"
          ]
        }
      ]
    },
    {
      "cell_type": "code",
      "source": [
        "error_proximidad_resistencia = (100.19 - 100.14) / math.sqrt(12)\n",
        "error_redondeo_resistencia = 0.01 / math.sqrt(12)\n",
        "\n",
        "error_total_resistencia = math.sqrt((error_proximidad_resistencia) ** 2 +\n",
        "                                    (error_redondeo_resistencia) ** 2)\n",
        "\n",
        "print(f\"Error total resistencia {error_total_resistencia} Ohm\")"
      ],
      "metadata": {
        "colab": {
          "base_uri": "https://localhost:8080/"
        },
        "id": "RlLz1aX7Cokk",
        "outputId": "2de6c523-e649-4a21-e13c-7cfd7ea89cac"
      },
      "execution_count": 104,
      "outputs": [
        {
          "output_type": "stream",
          "name": "stdout",
          "text": [
            "Error total resistencia 0.014719601443878941 Ohm\n"
          ]
        }
      ]
    },
    {
      "cell_type": "code",
      "source": [
        "error_redondeo_tension = math.sqrt((0.001 / math.sqrt(12)) ** 2)\n",
        "\n",
        "print(f\"Error total de tension {error_redondeo_tension} V\")"
      ],
      "metadata": {
        "colab": {
          "base_uri": "https://localhost:8080/"
        },
        "id": "RSis7vzHDAAu",
        "outputId": "555c77c2-b9bb-45df-b84f-2f29303bfc2b"
      },
      "execution_count": 105,
      "outputs": [
        {
          "output_type": "stream",
          "name": "stdout",
          "text": [
            "Error total de tension 0.0002886751345948129 V\n"
          ]
        }
      ]
    },
    {
      "cell_type": "code",
      "source": [
        "# Potencia = V * I = V * V/R = V^2 / R\n",
        "Tension = 4.953\n",
        "Potencia = (Tension ** 2) / valor_proximo_resistencia\n",
        "\n",
        "print(f\"Valor de potencia {Potencia} W\")"
      ],
      "metadata": {
        "colab": {
          "base_uri": "https://localhost:8080/"
        },
        "id": "DNmWgQ37DL8q",
        "outputId": "7320bec9-1b76-407a-b9a5-cd8e25ec73c5"
      },
      "execution_count": 106,
      "outputs": [
        {
          "output_type": "stream",
          "name": "stdout",
          "text": [
            "Valor de potencia 0.2449179753406879 W\n"
          ]
        }
      ]
    },
    {
      "cell_type": "code",
      "source": [
        "# Calculamos ahora las derivadas de los valores que afectan a la potencia\n",
        "# Es decir, la tensión y la resistencia\n",
        "\n",
        "# Derivada de tension\n",
        "X = torch.tensor(Tension, requires_grad = True)\n",
        "Y = (X ** 2) / valor_proximo_resistencia\n",
        "Y.backward()\n",
        "X1 = X.grad\n",
        "print(f\"Derivada de resistencia con respecto  tension: {X1}\")\n",
        "\n",
        "# Derivada de resistencia\n",
        "X = torch.tensor(valor_proximo_resistencia, requires_grad = True)\n",
        "Y = (Tension ** 2) / X\n",
        "Y.backward()\n",
        "X2 = X.grad\n",
        "print(f\"Derivada de resistencia con respecto  resistencia: {X2}\")"
      ],
      "metadata": {
        "colab": {
          "base_uri": "https://localhost:8080/"
        },
        "id": "bHNdfRJDDfrF",
        "outputId": "8656d793-b61c-4d59-ba1f-0f437168a1d6"
      },
      "execution_count": 107,
      "outputs": [
        {
          "output_type": "stream",
          "name": "stdout",
          "text": [
            "Derivada de resistencia con respecto  tension: 0.098896823823452\n",
            "Derivada de resistencia con respecto  resistencia: -0.0024451452773064375\n"
          ]
        }
      ]
    },
    {
      "cell_type": "code",
      "source": [
        "error_total_potencia = math.sqrt((X1 * error_redondeo_tension) ** 2 +\n",
        "                                 (X2 * error_total_resistencia) ** 2)\n",
        "\n",
        "print(f\"Error total de la potencia {error_total_potencia} W\")"
      ],
      "metadata": {
        "colab": {
          "base_uri": "https://localhost:8080/"
        },
        "id": "dpntouNWD0Ui",
        "outputId": "ac706b46-7fa8-44ad-e3e2-1105527e2c2a"
      },
      "execution_count": 108,
      "outputs": [
        {
          "output_type": "stream",
          "name": "stdout",
          "text": [
            "Error total de la potencia 4.593953803824723e-05 W\n"
          ]
        }
      ]
    },
    {
      "cell_type": "code",
      "source": [
        "print(f\"Con k = 2, Potencia = {Potencia:.6} ± {error_total_potencia*2:.2} W\")"
      ],
      "metadata": {
        "colab": {
          "base_uri": "https://localhost:8080/"
        },
        "id": "ZPyozkPUEFsk",
        "outputId": "78193b49-a69b-47a9-b7e6-8b06bb361b3d"
      },
      "execution_count": 115,
      "outputs": [
        {
          "output_type": "stream",
          "name": "stdout",
          "text": [
            "Con k = 2, Potencia = 0.244918 ± 9.2e-05 W\n"
          ]
        }
      ]
    },
    {
      "cell_type": "markdown",
      "source": [
        "## Ejercicio 6"
      ],
      "metadata": {
        "id": "Vo110jjHnVUV"
      }
    },
    {
      "cell_type": "markdown",
      "source": [
        "### Apartado a"
      ],
      "metadata": {
        "id": "bUCXiyvDq3eq"
      }
    },
    {
      "cell_type": "code",
      "source": [
        "frec = [10.1, 34.8, 67.3, 99.5]\n",
        "vin = [0.235, 0.983, 0.211, 0.996]\n",
        "vout = [2.422, 10.102, 2.171, 10.229]"
      ],
      "metadata": {
        "id": "EIemNtKqLmjb"
      },
      "execution_count": null,
      "outputs": []
    },
    {
      "cell_type": "code",
      "source": [
        "vin_inc_certi_1 = ((0.2 / 100) * vin[0]) / 2\n",
        "vin_inc_certi_2 = ((0.5 / 100) * vin[1]) / 2\n",
        "vin_inc_certi_3 = ((0.6 / 100) * vin[2]) / 2\n",
        "vin_inc_certi_4 = ((0.6 / 100) * vin[3]) / 2\n",
        "\n",
        "vin_inc_certi_1, vin_inc_certi_2, vin_inc_certi_3, vin_inc_certi_4"
      ],
      "metadata": {
        "colab": {
          "base_uri": "https://localhost:8080/"
        },
        "id": "DSW8F2_Mnv82",
        "outputId": "daee6619-6d58-4a79-885f-b422617da325"
      },
      "execution_count": null,
      "outputs": [
        {
          "output_type": "execute_result",
          "data": {
            "text/plain": [
              "(0.000235, 0.0024575, 0.000633, 0.002988)"
            ]
          },
          "metadata": {},
          "execution_count": 3
        }
      ]
    },
    {
      "cell_type": "code",
      "source": [
        "vin_inc_redondeo = 0.001 / math.sqrt(12)\n",
        "\n",
        "vin_inc_redondeo"
      ],
      "metadata": {
        "colab": {
          "base_uri": "https://localhost:8080/"
        },
        "id": "_AnLDDAToQEB",
        "outputId": "7eba8858-55b4-4a7a-885a-f8d1910d2951"
      },
      "execution_count": null,
      "outputs": [
        {
          "output_type": "execute_result",
          "data": {
            "text/plain": [
              "0.0002886751345948129"
            ]
          },
          "metadata": {},
          "execution_count": 4
        }
      ]
    },
    {
      "cell_type": "code",
      "source": [
        "vin_inc_total_1 = math.sqrt(vin_inc_certi_1 ** 2 + vin_inc_redondeo ** 2)\n",
        "vin_inc_total_2 = math.sqrt(vin_inc_certi_2 ** 2 + vin_inc_redondeo ** 2) \n",
        "vin_inc_total_3 = math.sqrt(vin_inc_certi_3 ** 2 + vin_inc_redondeo ** 2)\n",
        "vin_inc_total_4 = math.sqrt(vin_inc_certi_4 ** 2 + vin_inc_redondeo ** 2)\n",
        "\n",
        "vin_inc_total_1, vin_inc_total_2, vin_inc_total_3, vin_inc_total_4"
      ],
      "metadata": {
        "colab": {
          "base_uri": "https://localhost:8080/"
        },
        "id": "BOuyncy1oqoL",
        "outputId": "7ba8670c-8b3f-468f-e2a5-6b9c750bef4a"
      },
      "execution_count": null,
      "outputs": [
        {
          "output_type": "execute_result",
          "data": {
            "text/plain": [
              "(0.0003722342452452935,\n",
              " 0.002474396812019716,\n",
              " 0.0006957171360066772,\n",
              " 0.0030019122794201253)"
            ]
          },
          "metadata": {},
          "execution_count": 5
        }
      ]
    },
    {
      "cell_type": "code",
      "source": [
        "print(f\"Vin: {vin[0]} ± {vin_inc_total_1:.3}\")\n",
        "print(f\"Vin: {vin[1]} ± {vin_inc_total_2:.3}\")\n",
        "print(f\"Vin: {vin[2]} ± {vin_inc_total_3:.3}\")\n",
        "print(f\"Vin: {vin[3]} ± {vin_inc_total_4:.3}\")"
      ],
      "metadata": {
        "colab": {
          "base_uri": "https://localhost:8080/"
        },
        "id": "c43Yn048pA6c",
        "outputId": "3f65a4f3-8bf1-4cda-eca5-8e41304b080c"
      },
      "execution_count": null,
      "outputs": [
        {
          "output_type": "stream",
          "name": "stdout",
          "text": [
            "Vin: 0.235 + 0.000372\n",
            "Vin: 0.983 + 0.00247\n",
            "Vin: 0.211 + 0.000696\n",
            "Vin: 0.996 + 0.003\n"
          ]
        }
      ]
    },
    {
      "cell_type": "code",
      "source": [
        "vout_inc_certi_1 = ((0.2 / 100) * vout[0]) / 2\n",
        "vout_inc_certi_2 = ((0.5 / 100) * vout[1]) / 2\n",
        "vout_inc_certi_3 = ((0.6 / 100) * vout[2]) / 2\n",
        "vout_inc_certi_4 = ((0.6 / 100) * vout[3]) / 2\n",
        "\n",
        "vout_inc_certi_1, vout_inc_certi_2, vout_inc_certi_3, vout_inc_certi_4"
      ],
      "metadata": {
        "colab": {
          "base_uri": "https://localhost:8080/"
        },
        "id": "94uEHtbEpSt3",
        "outputId": "4a08e17a-2c76-4bc2-9048-1fdf9b400f00"
      },
      "execution_count": null,
      "outputs": [
        {
          "output_type": "execute_result",
          "data": {
            "text/plain": [
              "(0.002422, 0.025255, 0.006513, 0.030687)"
            ]
          },
          "metadata": {},
          "execution_count": 7
        }
      ]
    },
    {
      "cell_type": "code",
      "source": [
        "vout_inc_redondeo = 0.001 / math.sqrt(12)\n",
        "\n",
        "vout_inc_redondeo"
      ],
      "metadata": {
        "colab": {
          "base_uri": "https://localhost:8080/"
        },
        "id": "lw7Pkxpupula",
        "outputId": "d822da2d-337c-450c-c4a2-1e8014c3b474"
      },
      "execution_count": null,
      "outputs": [
        {
          "output_type": "execute_result",
          "data": {
            "text/plain": [
              "0.0002886751345948129"
            ]
          },
          "metadata": {},
          "execution_count": 8
        }
      ]
    },
    {
      "cell_type": "code",
      "source": [
        "vout_inc_total_1 = math.sqrt(vout_inc_certi_1 ** 2 + vout_inc_redondeo ** 2)\n",
        "vout_inc_total_2 = math.sqrt(vout_inc_certi_2 ** 2 + vout_inc_redondeo ** 2) \n",
        "vout_inc_total_3 = math.sqrt(vout_inc_certi_3 ** 2 + vout_inc_redondeo ** 2)\n",
        "vout_inc_total_4 = math.sqrt(vout_inc_certi_4 ** 2 + vout_inc_redondeo ** 2)\n",
        "\n",
        "vout_inc_total_1, vout_inc_total_2, vout_inc_total_3, vout_inc_total_4"
      ],
      "metadata": {
        "colab": {
          "base_uri": "https://localhost:8080/"
        },
        "id": "CIo4FTz5p0KB",
        "outputId": "b9a6937e-61eb-4bce-b3a4-8d4ddce3d60a"
      },
      "execution_count": null,
      "outputs": [
        {
          "output_type": "execute_result",
          "data": {
            "text/plain": [
              "(0.0024391427455836474,\n",
              " 0.02525664978442971,\n",
              " 0.006519394322583451,\n",
              " 0.03068835776533722)"
            ]
          },
          "metadata": {},
          "execution_count": 9
        }
      ]
    },
    {
      "cell_type": "code",
      "source": [
        "print(f\"Vout: {vout[0]} ± {vout_inc_total_1:.3}\")\n",
        "print(f\"Vout: {vout[1]} ± {vout_inc_total_2:.3}\")\n",
        "print(f\"Vout: {vout[2]} ± {vout_inc_total_3:.3}\")\n",
        "print(f\"Vout: {vout[3]} ± {vout_inc_total_4:.3}\")"
      ],
      "metadata": {
        "colab": {
          "base_uri": "https://localhost:8080/"
        },
        "id": "1zfnet3rp7OK",
        "outputId": "b917dfdd-a7af-4048-927c-db660f223b8b"
      },
      "execution_count": null,
      "outputs": [
        {
          "output_type": "stream",
          "name": "stdout",
          "text": [
            "Vout: 2.422 + 0.00244\n",
            "Vout: 10.102 + 0.0253\n",
            "Vout: 2.171 + 0.00652\n",
            "Vout: 10.229 + 0.0307\n"
          ]
        }
      ]
    },
    {
      "cell_type": "markdown",
      "source": [
        "### Apartado b"
      ],
      "metadata": {
        "id": "L1yh7eYZrAB9"
      }
    },
    {
      "cell_type": "code",
      "source": [
        "ganancia = [vout[i] / vin[i] for i in range(len(vin))]\n",
        "\n",
        "ganancia"
      ],
      "metadata": {
        "colab": {
          "base_uri": "https://localhost:8080/"
        },
        "id": "at--bNhhqGe7",
        "outputId": "1e52563d-7334-4b13-dc71-8912d11c9dd1"
      },
      "execution_count": null,
      "outputs": [
        {
          "output_type": "execute_result",
          "data": {
            "text/plain": [
              "[10.306382978723406, 10.276703967446593, 10.28909952606635, 10.270080321285139]"
            ]
          },
          "metadata": {},
          "execution_count": 11
        }
      ]
    },
    {
      "cell_type": "code",
      "source": [
        "derivada_ganancia_vin = [vout[i] * (-1) * (vin[i] ** -2) for i in range(len(vin))]\n",
        "\n",
        "derivada_ganancia_vin"
      ],
      "metadata": {
        "colab": {
          "base_uri": "https://localhost:8080/"
        },
        "id": "2G3BZCuZqiFH",
        "outputId": "836484c8-a9e9-4a6a-c86c-4f5e7d5a95e8"
      },
      "execution_count": null,
      "outputs": [
        {
          "output_type": "execute_result",
          "data": {
            "text/plain": [
              "[-43.856948845631514,\n",
              " -10.454429264950756,\n",
              " -48.7635048628737,\n",
              " -10.311325623780261]"
            ]
          },
          "metadata": {},
          "execution_count": 12
        }
      ]
    },
    {
      "cell_type": "code",
      "source": [
        "derivada_ganancia_vout = [1 / vin[i] for i in range(len(vin))]\n",
        "\n",
        "derivada_ganancia_vout"
      ],
      "metadata": {
        "colab": {
          "base_uri": "https://localhost:8080/"
        },
        "id": "4-GXZx7Pr0rT",
        "outputId": "fd4f30f3-bdb5-46c8-ae80-260f1340af35"
      },
      "execution_count": null,
      "outputs": [
        {
          "output_type": "execute_result",
          "data": {
            "text/plain": [
              "[4.25531914893617, 1.017293997965412, 4.739336492890995, 1.0040160642570282]"
            ]
          },
          "metadata": {},
          "execution_count": 13
        }
      ]
    },
    {
      "cell_type": "code",
      "source": [
        "ganancia_inc_total_1 = math.sqrt((derivada_ganancia_vin[0] * vin_inc_total_1) ** 2 +\n",
        "                                 (derivada_ganancia_vout[0] * vout_inc_total_1) ** 2)\n",
        "\n",
        "ganancia_inc_total_2 = math.sqrt((derivada_ganancia_vin[1] * vin_inc_total_2) ** 2 +\n",
        "                                 (derivada_ganancia_vout[1] * vout_inc_total_2) ** 2)\n",
        "\n",
        "ganancia_inc_total_3 = math.sqrt((derivada_ganancia_vin[2] * vin_inc_total_3) ** 2 +\n",
        "                                 (derivada_ganancia_vout[2] * vout_inc_total_3) ** 2)\n",
        "\n",
        "ganancia_inc_total_4 = math.sqrt((derivada_ganancia_vin[3] * vin_inc_total_4) ** 2 +\n",
        "                                 (derivada_ganancia_vout[3] * vout_inc_total_4) ** 2)\n",
        "\n",
        "ganancia_inc_total_1, ganancia_inc_total_2, ganancia_inc_total_3, ganancia_inc_total_4"
      ],
      "metadata": {
        "colab": {
          "base_uri": "https://localhost:8080/"
        },
        "id": "7_TbbLdhr-Iv",
        "outputId": "82ec59dc-0a59-4301-dc53-ff9600f6e0a5"
      },
      "execution_count": null,
      "outputs": [
        {
          "output_type": "execute_result",
          "data": {
            "text/plain": [
              "(0.019345232887386214,\n",
              " 0.036459939938140826,\n",
              " 0.045886911381206964,\n",
              " 0.04367477746785222)"
            ]
          },
          "metadata": {},
          "execution_count": 14
        }
      ]
    },
    {
      "cell_type": "code",
      "source": [
        "print(f\"Ganancia: {ganancia[0]} ± {ganancia_inc_total_1:.3}\")\n",
        "print(f\"Ganancia: {ganancia[1]} ± {ganancia_inc_total_2:.3}\")\n",
        "print(f\"Ganancia: {ganancia[2]} ± {ganancia_inc_total_3:.3}\")\n",
        "print(f\"Ganancia: {ganancia[3]} ± {ganancia_inc_total_4:.3}\")"
      ],
      "metadata": {
        "colab": {
          "base_uri": "https://localhost:8080/"
        },
        "id": "Ak_n_cSPsZcS",
        "outputId": "0add7c41-d1d2-431c-9561-02a3d9665e89"
      },
      "execution_count": null,
      "outputs": [
        {
          "output_type": "stream",
          "name": "stdout",
          "text": [
            "Ganancia: 10.306382978723406 + 0.0193\n",
            "Ganancia: 10.276703967446593 + 0.0365\n",
            "Ganancia: 10.28909952606635 + 0.0459\n",
            "Ganancia: 10.270080321285139 + 0.0437\n"
          ]
        }
      ]
    },
    {
      "cell_type": "markdown",
      "source": [
        "### Apartado c"
      ],
      "metadata": {
        "id": "_3MTfadVrEtv"
      }
    },
    {
      "cell_type": "code",
      "source": [
        "ganancia_intermedia = (ganancia[0] + ganancia[-1]) / 2\n",
        "\n",
        "ganancia_intermedia"
      ],
      "metadata": {
        "colab": {
          "base_uri": "https://localhost:8080/"
        },
        "id": "67BBi9X_svhB",
        "outputId": "c13cde6e-b950-46f8-9948-eda029268c33"
      },
      "execution_count": null,
      "outputs": [
        {
          "output_type": "execute_result",
          "data": {
            "text/plain": [
              "10.288231650004272"
            ]
          },
          "metadata": {},
          "execution_count": 16
        }
      ]
    },
    {
      "cell_type": "code",
      "source": [
        "ganancia_intermedia_inc = math.sqrt(ganancia_inc_total_1**2 + ganancia_inc_total_4**2)\n",
        "\n",
        "ganancia_intermedia_inc*2"
      ],
      "metadata": {
        "colab": {
          "base_uri": "https://localhost:8080/"
        },
        "id": "F26dl8NGs84I",
        "outputId": "a6c73363-bc06-465b-d2c3-bb171aba613a"
      },
      "execution_count": null,
      "outputs": [
        {
          "output_type": "execute_result",
          "data": {
            "text/plain": [
              "0.09553479412933534"
            ]
          },
          "metadata": {},
          "execution_count": 17
        }
      ]
    },
    {
      "cell_type": "markdown",
      "source": [
        "### Apartado d"
      ],
      "metadata": {
        "id": "fhXUx3G4rM3a"
      }
    },
    {
      "cell_type": "code",
      "source": [
        "ganancia_media = np.sum(ganancia) / len(ganancia)\n",
        "\n",
        "ganancia_media"
      ],
      "metadata": {
        "colab": {
          "base_uri": "https://localhost:8080/"
        },
        "id": "RGvsp7jMtRrc",
        "outputId": "d479d9f6-3e84-48f8-9a49-5964714d959b"
      },
      "execution_count": null,
      "outputs": [
        {
          "output_type": "execute_result",
          "data": {
            "text/plain": [
              "10.285566698380372"
            ]
          },
          "metadata": {},
          "execution_count": 18
        }
      ]
    },
    {
      "cell_type": "code",
      "source": [
        "ganancia_media_mas_1_tol = ganancia_media + (ganancia_media * 0.01) \n",
        "ganancia_media_menos_1_tol = ganancia_media - (ganancia_media * 0.01)\n",
        "\n",
        "ganancia_media_mas_1_tol, ganancia_media_menos_1_tol"
      ],
      "metadata": {
        "colab": {
          "base_uri": "https://localhost:8080/"
        },
        "id": "qHUbe-Tstlq-",
        "outputId": "6782090d-61a3-401e-d97c-d0550ed42547"
      },
      "execution_count": null,
      "outputs": [
        {
          "output_type": "execute_result",
          "data": {
            "text/plain": [
              "(10.388422365364175, 10.182711031396568)"
            ]
          },
          "metadata": {},
          "execution_count": 19
        }
      ]
    },
    {
      "cell_type": "code",
      "source": [
        "cont = 0\n",
        "\n",
        "for i in ganancia:\n",
        "  if(i > ganancia_media_mas_1_tol or i < ganancia_media_menos_1_tol):\n",
        "    print(f\"Ganancia {i} está fuera del rango de la tolerancia\")\n",
        "    cont += 1;\n",
        "\n",
        "if cont == 0:\n",
        "  print(f\"Todos los valores de ganancia se encuentran dentro del rango de la tolerancia\")"
      ],
      "metadata": {
        "colab": {
          "base_uri": "https://localhost:8080/"
        },
        "id": "_UhBQNlMt3Uh",
        "outputId": "e37a4c69-e63b-4468-8abb-dd15b6c04847"
      },
      "execution_count": null,
      "outputs": [
        {
          "output_type": "stream",
          "name": "stdout",
          "text": [
            "Todos los valores de ganancia se encuentran dentro del rango de la tolerancia\n"
          ]
        }
      ]
    },
    {
      "cell_type": "markdown",
      "source": [
        "## Ejercicio 7"
      ],
      "metadata": {
        "id": "kDNRfR2rqQI6"
      }
    },
    {
      "cell_type": "markdown",
      "source": [
        "### Apartado a"
      ],
      "metadata": {
        "id": "BMXkLMlXlkML"
      }
    },
    {
      "cell_type": "code",
      "source": [
        "Rb = [1955.14, 1944.57, 1951.36, 1949.33, 1951.14, 1950.12, 1955.05, 1952.63, 1949.03, 1955.65]\n",
        "Rc = [331.012, 329.435, 330.418, 330.185, 328.457, 330.548, 329.723, 328.670, 331.153, 329.860]\n",
        "Re = [32.8510, 33.0469, 33.1215, 32.8216, 32.8346, 33.1463, 33.1096, 32.9142, 32.9656, 32.9768]\n",
        "Rl = [10001.8, 10010.7, 10001.8, 10005.6, 10001.7, 9998.50, 10009.3, 10008.5, 9990.40, 10010.9]"
      ],
      "metadata": {
        "id": "LeAy-yjspfCD"
      },
      "execution_count": null,
      "outputs": []
    },
    {
      "cell_type": "code",
      "source": [
        "media_Rb = np.average(Rb)\n",
        "media_Rc = np.average(Rc)\n",
        "media_Re = np.average(Re)\n",
        "media_Rl = np.average(Rl)\n",
        "\n",
        "media_Rb, media_Rc, media_Re, media_Rl"
      ],
      "metadata": {
        "colab": {
          "base_uri": "https://localhost:8080/"
        },
        "id": "gMPab2VYa47X",
        "outputId": "039223c1-39b9-41f4-9f3a-5b64ddcf2354"
      },
      "execution_count": null,
      "outputs": [
        {
          "output_type": "execute_result",
          "data": {
            "text/plain": [
              "(1951.402, 329.94610000000006, 32.978809999999996, 10003.919999999998)"
            ]
          },
          "metadata": {},
          "execution_count": 28
        }
      ]
    },
    {
      "cell_type": "code",
      "source": [
        "sumatorio_Rb = np.sum([(i - media_Rb) ** 2 for i in Rb])\n",
        "sumatorio_Rc = np.sum([(i - media_Rc) ** 2 for i in Rc])\n",
        "sumatorio_Re = np.sum([(i - media_Re) ** 2 for i in Re])\n",
        "sumatorio_Rl = np.sum([(i - media_Rl) ** 2 for i in Rl])\n",
        "\n",
        "cociente_Rb = sumatorio_Rb / (len(Rb) * (len(Rb) - 1))\n",
        "cociente_Rc = sumatorio_Rc / (len(Rc) * (len(Rc) - 1))\n",
        "cociente_Re = sumatorio_Re / (len(Re) * (len(Re) - 1))\n",
        "cociente_Rl = sumatorio_Rl / (len(Rl) * (len(Rl) - 1))\n",
        "\n",
        "desviacion_media_Rb = math.sqrt(cociente_Rb)\n",
        "desviacion_media_Rc = math.sqrt(cociente_Rc)\n",
        "desviacion_media_Re = math.sqrt(cociente_Re)\n",
        "desviacion_media_Rl = math.sqrt(cociente_Rl)\n",
        "\n",
        "desviacion_media_Rb, desviacion_media_Rc, desviacion_media_Re, desviacion_media_Rl"
      ],
      "metadata": {
        "colab": {
          "base_uri": "https://localhost:8080/"
        },
        "id": "SUHptiWheikP",
        "outputId": "c5c2cc37-b0f6-41c2-d47d-dc91964ff698"
      },
      "execution_count": null,
      "outputs": [
        {
          "output_type": "execute_result",
          "data": {
            "text/plain": [
              "(1.080862618467321, 0.2867259027945219, 0.03892378721438986, 2.037198512118517)"
            ]
          },
          "metadata": {},
          "execution_count": 29
        }
      ]
    },
    {
      "cell_type": "code",
      "source": [
        "error_redondeo_Rb = 0.01 / math.sqrt(12)\n",
        "error_redondeo_Rc = 0.001 / math.sqrt(12)\n",
        "error_redondeo_Re = 0.0001 / math.sqrt(12)\n",
        "error_redondeo_Rl = 0.1 / math.sqrt(12)\n",
        "\n",
        "error_redondeo_Rb, error_redondeo_Rc, error_redondeo_Re, error_redondeo_Rl"
      ],
      "metadata": {
        "colab": {
          "base_uri": "https://localhost:8080/"
        },
        "id": "-taH2X9Ga-eh",
        "outputId": "fe065609-c233-40f8-93ab-6ba22513eba6"
      },
      "execution_count": null,
      "outputs": [
        {
          "output_type": "execute_result",
          "data": {
            "text/plain": [
              "(0.002886751345948129,\n",
              " 0.0002886751345948129,\n",
              " 2.8867513459481293e-05,\n",
              " 0.02886751345948129)"
            ]
          },
          "metadata": {},
          "execution_count": 30
        }
      ]
    },
    {
      "cell_type": "code",
      "source": [
        "error_accuracy_Rb = (media_Rb * (0.04 / 100) * 2) / math.sqrt(12)\n",
        "error_accuracy_Rc = (media_Rc * (0.04 / 100) * 2) / math.sqrt(12)\n",
        "error_accuracy_Re = (media_Re * (0.04 / 100) * 2) / math.sqrt(12)\n",
        "error_accuracy_Rl = (media_Rl * (0.04 / 100) * 2) / math.sqrt(12)\n",
        "\n",
        "error_accuracy_Rb, error_accuracy_Rc, error_accuracy_Re, error_accuracy_Rl"
      ],
      "metadata": {
        "colab": {
          "base_uri": "https://localhost:8080/"
        },
        "id": "lIf5j7zjcKzk",
        "outputId": "c9b49821-fe15-435d-97aa-4dd38b2e88a4"
      },
      "execution_count": null,
      "outputs": [
        {
          "output_type": "execute_result",
          "data": {
            "text/plain": [
              "(0.4506569879988697,\n",
              " 0.0761977878612269,\n",
              " 0.007616129932421409,\n",
              " 2.3103063619805924)"
            ]
          },
          "metadata": {},
          "execution_count": 31
        }
      ]
    },
    {
      "cell_type": "code",
      "source": [
        "error_incertidumbre_Rb = (media_Rb * (0.05 / 100)) / 2\n",
        "error_incertidumbre_Rc = (media_Rc * (0.05 / 100)) / 2\n",
        "error_incertidumbre_Re = (media_Re * (0.05 / 100)) / 2\n",
        "error_incertidumbre_Rl = (media_Rl * (0.05 / 100)) / 2\n",
        "\n",
        "error_incertidumbre_Rb, error_incertidumbre_Rc, error_incertidumbre_Re, error_incertidumbre_Rl"
      ],
      "metadata": {
        "colab": {
          "base_uri": "https://localhost:8080/"
        },
        "id": "DxPztojnc6Ms",
        "outputId": "c9e8936d-57ad-4c36-9d6d-b468b0e17296"
      },
      "execution_count": null,
      "outputs": [
        {
          "output_type": "execute_result",
          "data": {
            "text/plain": [
              "(0.4878505, 0.08248652500000002, 0.0082447025, 2.5009799999999998)"
            ]
          },
          "metadata": {},
          "execution_count": 32
        }
      ]
    },
    {
      "cell_type": "code",
      "source": [
        "desviacion_Rb = math.sqrt(desviacion_media_Rb**2 + error_redondeo_Rb**2 + error_accuracy_Rb**2 + error_incertidumbre_Rb**2)\n",
        "desviacion_Rc = math.sqrt(desviacion_media_Rc**2 + error_redondeo_Rc**2 + error_accuracy_Rc**2 + error_incertidumbre_Rc**2)\n",
        "desviacion_Re = math.sqrt(desviacion_media_Re**2 + error_redondeo_Re**2 + error_accuracy_Re**2 + error_incertidumbre_Re**2)\n",
        "desviacion_Rl = math.sqrt(desviacion_media_Rl**2 + error_redondeo_Rl**2 + error_accuracy_Rl**2 + error_incertidumbre_Rl**2)\n",
        "\n",
        "desviacion_Rb, desviacion_Rc, desviacion_Re, desviacion_Rl"
      ],
      "metadata": {
        "colab": {
          "base_uri": "https://localhost:8080/"
        },
        "id": "sFElCRZ9dUs-",
        "outputId": "715ff130-dff7-444f-d5c9-c8a51206fcb7"
      },
      "execution_count": null,
      "outputs": [
        {
          "output_type": "execute_result",
          "data": {
            "text/plain": [
              "(1.2686063867550998,\n",
              " 0.30793173975442534,\n",
              " 0.04050978398986428,\n",
              " 3.967798830298637)"
            ]
          },
          "metadata": {},
          "execution_count": 33
        }
      ]
    },
    {
      "cell_type": "code",
      "source": [
        "lista = [desviacion_Rb*2, desviacion_Rc*2, desviacion_Re*2, desviacion_Rl*2]\n",
        "lista = [round(lista[i], 3) for i in range(len(lista))]\n",
        "lista"
      ],
      "metadata": {
        "colab": {
          "base_uri": "https://localhost:8080/"
        },
        "id": "EcrgAtjcdvZM",
        "outputId": "83b7f03b-8459-4b03-c905-22d7d07f2ae8"
      },
      "execution_count": null,
      "outputs": [
        {
          "output_type": "execute_result",
          "data": {
            "text/plain": [
              "[2.537, 0.616, 0.081, 7.936]"
            ]
          },
          "metadata": {},
          "execution_count": 34
        }
      ]
    },
    {
      "cell_type": "code",
      "source": [
        "print(f\"Rb = {media_Rb:.5} ± {lista[0]:.2}\")\n",
        "print(f\"Rc = {media_Rc:.5} ± {lista[1]:.2}\")\n",
        "print(f\"Re = {media_Re:.5} ± {lista[2]:.2}\")\n",
        "print(f\"Rl = {media_Rl:.6} ± {lista[3]:.2}\")"
      ],
      "metadata": {
        "colab": {
          "base_uri": "https://localhost:8080/"
        },
        "id": "St3EtSj4t89W",
        "outputId": "c8dcefa4-b775-4871-c92e-58552a68e983"
      },
      "execution_count": null,
      "outputs": [
        {
          "output_type": "stream",
          "name": "stdout",
          "text": [
            "Rb = 1951.4 ± 2.5\n",
            "Rc = 329.95 ± 0.62\n",
            "Re = 32.979 ± 0.081\n",
            "Rl = 10003.9 ± 7.9\n"
          ]
        }
      ]
    },
    {
      "cell_type": "markdown",
      "source": [
        "### Apartado b"
      ],
      "metadata": {
        "id": "SFY4PsPylWOs"
      }
    },
    {
      "cell_type": "code",
      "source": [
        "error_redondeo_Vcc = 0.01 / math.sqrt(12)\n",
        "error_redondeo_Vc = 0.01 / math.sqrt(12)\n",
        "error_redondeo_Ve = 0.0001 / math.sqrt(12)\n",
        "error_redondeo_Vb = 0.001 / math.sqrt(12)\n",
        "error_redondeo_Vi = 0.001 / math.sqrt(12)\n",
        "\n",
        "(error_redondeo_Vcc, error_redondeo_Vc, \n",
        "error_redondeo_Ve, error_redondeo_Vb, error_redondeo_Vi)"
      ],
      "metadata": {
        "colab": {
          "base_uri": "https://localhost:8080/"
        },
        "id": "tx-VztgLlc6R",
        "outputId": "a1344944-ba06-4c56-a92b-943fb183c57d"
      },
      "execution_count": null,
      "outputs": [
        {
          "output_type": "execute_result",
          "data": {
            "text/plain": [
              "(0.002886751345948129,\n",
              " 0.002886751345948129,\n",
              " 2.8867513459481293e-05,\n",
              " 0.0002886751345948129,\n",
              " 0.0002886751345948129)"
            ]
          },
          "metadata": {},
          "execution_count": 18
        }
      ]
    },
    {
      "cell_type": "code",
      "source": [
        "Vcc = 20.00\n",
        "Vc = 12.64\n",
        "Ve = 0.7458\n",
        "Vb = 1.349\n",
        "Vi = 1.910\n",
        "\n",
        "Vcc, Vc, Ve, Vb, Vi"
      ],
      "metadata": {
        "colab": {
          "base_uri": "https://localhost:8080/"
        },
        "id": "jnlu8COTnj_I",
        "outputId": "a9a1edab-0298-43c4-f555-c3297a432f34"
      },
      "execution_count": null,
      "outputs": [
        {
          "output_type": "execute_result",
          "data": {
            "text/plain": [
              "(20.0, 12.64, 0.7458, 1.349, 1.91)"
            ]
          },
          "metadata": {},
          "execution_count": 19
        }
      ]
    },
    {
      "cell_type": "code",
      "source": [
        "error_accuracy_Vcc = (Vcc * (0.6 / 100) * 2) / math.sqrt(12)\n",
        "error_accuracy_Vc = (Vc * (0.6 / 100) * 2) / math.sqrt(12)\n",
        "error_accuracy_Ve = (Ve * (0.6 / 100) * 2) / math.sqrt(12)\n",
        "error_accuracy_Vb = (Vb * (0.6 / 100) * 2) / math.sqrt(12)\n",
        "error_accuracy_Vi = (Vi * (0.6 / 100) * 2) / math.sqrt(12)\n",
        "\n",
        "error_accuracy_Vcc, error_accuracy_Vc, error_accuracy_Ve, error_accuracy_Vb, error_accuracy_Vi"
      ],
      "metadata": {
        "colab": {
          "base_uri": "https://localhost:8080/"
        },
        "id": "Af6cx4dnnKsO",
        "outputId": "ec7af632-5481-4b69-fd3d-5f9da09f0780"
      },
      "execution_count": null,
      "outputs": [
        {
          "output_type": "execute_result",
          "data": {
            "text/plain": [
              "(0.06928203230275509,\n",
              " 0.04378624441534122,\n",
              " 0.0025835269845697374,\n",
              " 0.004673073078820832,\n",
              " 0.006616434084913111)"
            ]
          },
          "metadata": {},
          "execution_count": 20
        }
      ]
    },
    {
      "cell_type": "code",
      "source": [
        "error_incertidumbre_Vcc = (Vcc * (0.8 / 100)) / 2\n",
        "error_incertidumbre_Vc = (Vc * (0.8 / 100)) / 2\n",
        "error_incertidumbre_Ve = (Ve * (0.8 / 100)) / 2\n",
        "error_incertidumbre_Vb = (Vb * (0.8 / 100)) / 2\n",
        "error_incertidumbre_Vi = (Vi * (0.8 / 100)) / 2\n",
        "\n",
        "error_incertidumbre_Vcc, error_incertidumbre_Vc, error_incertidumbre_Ve, error_incertidumbre_Vb, error_incertidumbre_Vi"
      ],
      "metadata": {
        "colab": {
          "base_uri": "https://localhost:8080/"
        },
        "id": "vBllfgjUoTVq",
        "outputId": "4ad8b704-ffb2-4d6c-dc5c-7fe0ce486db8"
      },
      "execution_count": null,
      "outputs": [
        {
          "output_type": "execute_result",
          "data": {
            "text/plain": [
              "(0.08, 0.05056, 0.0029832, 0.005396, 0.00764)"
            ]
          },
          "metadata": {},
          "execution_count": 21
        }
      ]
    },
    {
      "cell_type": "code",
      "source": [
        "desviacion_Vcc = math.sqrt(error_redondeo_Vcc**2 + error_accuracy_Vcc**2 + error_incertidumbre_Vcc**2)\n",
        "desviacion_Vc = math.sqrt(error_redondeo_Vc**2 + error_accuracy_Vc**2 + error_incertidumbre_Vc**2)\n",
        "desviacion_Ve = math.sqrt(error_redondeo_Ve**2 + error_accuracy_Ve**2 + error_incertidumbre_Ve**2)\n",
        "desviacion_Vb = math.sqrt(error_redondeo_Vb**2 + error_accuracy_Vb**2 + error_incertidumbre_Vb**2)\n",
        "desviacion_Vi = math.sqrt(error_redondeo_Vi**2 + error_accuracy_Vi**2 + error_incertidumbre_Vi**2)\n",
        "\n",
        "desviacion_Vcc, desviacion_Vc, desviacion_Ve, desviacion_Vb, desviacion_Vi"
      ],
      "metadata": {
        "colab": {
          "base_uri": "https://localhost:8080/"
        },
        "id": "dIm84WEMoolJ",
        "outputId": "72352292-aebe-4141-b9ee-f2b3cf705e83"
      },
      "execution_count": null,
      "outputs": [
        {
          "output_type": "execute_result",
          "data": {
            "text/plain": [
              "(0.10586941642104832,\n",
              " 0.06694686051887223,\n",
              " 0.003946508235558787,\n",
              " 0.007144071761491015,\n",
              " 0.010110891816913745)"
            ]
          },
          "metadata": {},
          "execution_count": 45
        }
      ]
    },
    {
      "cell_type": "code",
      "source": [
        "lista2 = [desviacion_Vcc*2, desviacion_Vc*2, desviacion_Ve*2, desviacion_Vb*2, desviacion_Vi*2]\n",
        "lista2 = [round(lista2[i], 4) for i in range(len(lista2))]\n",
        "lista2"
      ],
      "metadata": {
        "colab": {
          "base_uri": "https://localhost:8080/"
        },
        "id": "NdHTooaLpDIy",
        "outputId": "b9a12736-8586-4fed-fe50-9e9a954851fc"
      },
      "execution_count": null,
      "outputs": [
        {
          "output_type": "execute_result",
          "data": {
            "text/plain": [
              "[0.2117, 0.1339, 0.0079, 0.0143, 0.0202]"
            ]
          },
          "metadata": {},
          "execution_count": 23
        }
      ]
    },
    {
      "cell_type": "code",
      "source": [
        "print(f\"Vcc = {Vcc:.4} ± {lista2[0]:.2}\")\n",
        "print(f\"Vi = {Vi:.4} ± {lista2[4]:.2}\")\n",
        "print(f\"Vb = {Vb:.4} ± {lista2[3]:.2}\")\n",
        "print(f\"Vc = {Vc:.4} ± {lista2[1]:.2}\")\n",
        "print(f\"Ve = {Ve:.4} ± {lista2[2]:.2}\")"
      ],
      "metadata": {
        "colab": {
          "base_uri": "https://localhost:8080/"
        },
        "id": "BpKhKVTntZDG",
        "outputId": "44c03dfd-587a-4d6a-99c7-77570efad248"
      },
      "execution_count": null,
      "outputs": [
        {
          "output_type": "stream",
          "name": "stdout",
          "text": [
            "Vcc = 20.0 ± 0.21\n",
            "Vi = 1.91 ± 0.02\n",
            "Vb = 1.349 ± 0.014\n",
            "Vc = 12.64 ± 0.13\n",
            "Ve = 0.7458 ± 0.0079\n"
          ]
        }
      ]
    },
    {
      "cell_type": "markdown",
      "source": [
        "### Apartado c"
      ],
      "metadata": {
        "id": "5qP3sfACq3As"
      }
    },
    {
      "cell_type": "code",
      "source": [
        "Ve = 0.7458\n",
        "Re = media_Re\n",
        "Rb = media_Rb\n",
        "Vi = 1.910\n",
        "Vb = 1.349\n",
        "\n",
        "beta = ((Ve/Re) * (Rb / (Vi - Vb))) - 1\n",
        "beta"
      ],
      "metadata": {
        "colab": {
          "base_uri": "https://localhost:8080/"
        },
        "id": "5UYvhjyfq5UE",
        "outputId": "ad934039-696c-47fd-d883-ce5f97fb3c65"
      },
      "execution_count": null,
      "outputs": [
        {
          "output_type": "execute_result",
          "data": {
            "text/plain": [
              "77.66314086137702"
            ]
          },
          "metadata": {},
          "execution_count": 42
        }
      ]
    },
    {
      "cell_type": "code",
      "source": [
        "# Derivada de Ve\n",
        "X = torch.tensor(Ve, requires_grad = True)\n",
        "Y = ((X/Re) * (Rb / (Vi - Vb))) - 1\n",
        "Y.backward()\n",
        "X1 = X.grad\n",
        "print(f\"Derivada de beta con respecto Ve: {X1}\")\n",
        "\n",
        "# Derivada de Re\n",
        "X = torch.tensor(Re, requires_grad = True)\n",
        "Y = ((Ve/X) * (Rb / (Vi - Vb))) - 1\n",
        "Y.backward()\n",
        "X2 = X.grad\n",
        "print(f\"Derivada de beta con respecto Re: {X2}\")\n",
        "\n",
        "# Derivada de Rb\n",
        "X = torch.tensor(Rb, requires_grad = True)\n",
        "Y = ((Ve/Re) * (X / (Vi - Vb))) - 1\n",
        "Y.backward()\n",
        "X3 = X.grad\n",
        "print(f\"Derivada de beta con respecto Rb: {X3}\")\n",
        "\n",
        "# Derivada de Vi\n",
        "X = torch.tensor(Vi, requires_grad = True)\n",
        "Y = ((Ve/Re) * (Rb / (X - Vb))) - 1\n",
        "Y.backward()\n",
        "X4 = X.grad\n",
        "print(f\"Derivada de beta con respecto Vi: {X4}\")\n",
        "\n",
        "# Derivada de Vb\n",
        "X = torch.tensor(Vb, requires_grad = True)\n",
        "Y = ((Ve/Re) * (Rb / (Vi - X))) - 1\n",
        "Y.backward()\n",
        "X5 = X.grad\n",
        "print(f\"Derivada de beta con respecto Vb: {X5}\")"
      ],
      "metadata": {
        "colab": {
          "base_uri": "https://localhost:8080/"
        },
        "id": "V0BV05x8rrOy",
        "outputId": "a763a564-97bc-4f15-c6e8-ffa0b23a658a"
      },
      "execution_count": null,
      "outputs": [
        {
          "output_type": "stream",
          "name": "stdout",
          "text": [
            "Derivada de beta con respecto Ve: 105.474853515625\n",
            "Derivada de beta con respecto Re: -2.385263169331368\n",
            "Derivada de beta con respecto Rb: 0.04031108959680118\n",
            "Derivada de beta con respecto Vi: -140.2195281982422\n",
            "Derivada de beta con respecto Vb: 140.2195281982422\n"
          ]
        }
      ]
    },
    {
      "cell_type": "code",
      "source": [
        "incertidumbre_beta = np.sqrt((X1 * desviacion_Ve) ** 2 + \n",
        "                             (X2 * desviacion_Re) ** 2 +\n",
        "                             (X3 * desviacion_Rb) ** 2 +\n",
        "                             (X4 * desviacion_Vi) ** 2 +\n",
        "                             (X5 * desviacion_Vb) ** 2)\n",
        "incertidumbre_beta"
      ],
      "metadata": {
        "colab": {
          "base_uri": "https://localhost:8080/"
        },
        "id": "Xle2Hzh5tLBI",
        "outputId": "c5c100b3-5ac5-462d-a60d-580fde7bfc9c"
      },
      "execution_count": null,
      "outputs": [
        {
          "output_type": "execute_result",
          "data": {
            "text/plain": [
              "tensor(1.7885, dtype=torch.float64)"
            ]
          },
          "metadata": {},
          "execution_count": 46
        }
      ]
    },
    {
      "cell_type": "code",
      "source": [
        "print(f\"Con k = 1: {beta:.3} + {incertidumbre_beta:.2}\")\n",
        "print(f\"Con k = 2: {beta:.3} + {incertidumbre_beta * 2:.2}\")"
      ],
      "metadata": {
        "colab": {
          "base_uri": "https://localhost:8080/"
        },
        "id": "A3_qXAyfvSvk",
        "outputId": "f5633b66-e4a6-411c-b310-b6c7fcb2623f"
      },
      "execution_count": null,
      "outputs": [
        {
          "output_type": "stream",
          "name": "stdout",
          "text": [
            "Con k = 1: 77.7 + 1.8\n",
            "Con k = 2: 77.7 + 3.6\n"
          ]
        }
      ]
    }
  ]
}